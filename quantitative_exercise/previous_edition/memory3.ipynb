{
 "cells": [
  {
   "cell_type": "code",
   "execution_count": 1,
   "metadata": {},
   "outputs": [],
   "source": [
    "%matplotlib ipympl\n",
    "import random\n",
    "import math"
   ]
  },
  {
   "cell_type": "code",
   "execution_count": 2,
   "metadata": {},
   "outputs": [],
   "source": [
    "class memory:\n",
    "    def __init__(self, size):\n",
    "        self.size = size # memory size in bytes\n",
    "        self.free_mem = size\n",
    "        self.memory = [ False ] * size\n",
    "    \n",
    "    def __str__(self):\n",
    "        str1  = \"Size: {} bytes\\n\".format(str(self.size))\n",
    "        str1 += \"Free: {} bytes\\n\".format(str(self.free_mem))\n",
    "        str1 += str(list(int(i) for i in self.memory))\n",
    "        return str1\n",
    "                \n",
    "    def writeAllocation(self, position, size):\n",
    "        self.memory[position: position+size] = [True] * size\n",
    "            \n",
    "    def isThereSpace(self, position, size):\n",
    "        if position+size > self.size:\n",
    "            return 0\n",
    "        return sum(self.memory[position : position+size]) == 0\n",
    "\n",
    "    def get_number_free_chunks(self, size):\n",
    "        num = 0\n",
    "        i = 0\n",
    "        while i < self.memory.size:\n",
    "            if self.memory.isThereSpace(i,size):\n",
    "                num += 1\n",
    "                i += size\n",
    "            else:\n",
    "                i += 1\n",
    "        return num\n",
    "        \n",
    "    def get_fragmentation(self, size_x=4):\n",
    "        if size_x > self.memory.free_mem:\n",
    "            return 1\n",
    "        num_free_chunks_of_size_x = self.get_number_free_chunks(size_x)\n",
    "        return 1-size_x*num_free_chunks_of_size_x/self.memory.free_mem"
   ]
  },
  {
   "cell_type": "code",
   "execution_count": 3,
   "metadata": {},
   "outputs": [],
   "source": [
    "class random_allocator:        \n",
    "    def allocate(self, size, memory):\n",
    "        allocated = False\n",
    "        while not allocated:\n",
    "            pick_place_to_allocate = random.randint(0,memory.size-1-size)\n",
    "            if memory.isThereSpace(pick_place_to_allocate, size):\n",
    "                memory.writeAllocation(pick_place_to_allocate, size)\n",
    "                memory.free_mem -= size\n",
    "                allocated = True"
   ]
  },
  {
   "cell_type": "code",
   "execution_count": 4,
   "metadata": {},
   "outputs": [],
   "source": [
    "class sequential_allocator:        \n",
    "    def allocate(self, size, memory):\n",
    "        memory.writeAllocation(memory.size-memory.free_mem, size)\n",
    "        memory.free_mem -= size"
   ]
  },
  {
   "cell_type": "markdown",
   "metadata": {},
   "source": [
    "https://github.com/mtrebi/memory-allocators (CTRL+F -> Pool allocator)"
   ]
  },
  {
   "cell_type": "code",
   "execution_count": 5,
   "metadata": {},
   "outputs": [],
   "source": [
    "class pool_allocator:\n",
    "    chunk_size = 0\n",
    "    memory_chunk_positions = []\n",
    "    memory_chunks = []\n",
    "    memory_ = None\n",
    "    allocated = []\n",
    "    \n",
    "    def __init__(self, chunk_size, memory):\n",
    "        self.chunk_size = chunk_size\n",
    "        self.memory_position = [0]\n",
    "        if memory.size % chunk_size != 0: print(\"Memory size to be allocated and chunk size decided for pool allocator should be a perfect division!\")\n",
    "        self.memory_buddies = [chunk_size for x in range(int(memory.size / chunk_size))]\n",
    "        self.memory_ = memory\n",
    "    \n",
    "    def __str__(self):\n",
    "        str_ =  \"Positions: \" + str([int(x) for x in self.memory_position]) + \"\\n\"\n",
    "        str_ += \"Pool:   \" + str([int(x) for x in self.memory_buddies]) + \"\\n\"\n",
    "        str_ += \"Allocated: \" + str([(int(x), int(y)) for (x,y) in self.allocated])\n",
    "        return str_\n",
    "    \n",
    "    def deallocate(self, pos, memory=None):\n",
    "        if memory == None: memory = self.memory_\n",
    "        \n",
    "        found = False\n",
    "        \n",
    "        for (x,y) in self.allocated:\n",
    "            if pos == x:\n",
    "                found = True\n",
    "                self.allocated.remove((x,y))\n",
    "                position = x\n",
    "                self.memory_positions.append(position)\n",
    "                self.memory_positions.sort()\n",
    "                index = self.memory_positions.index(position)\n",
    "                buddyToPutBack = math.ceil(math.sqrt(y))\n",
    "                \n",
    "                self.memory_buddies[index:index+1] = [buddyToPutBack]\n",
    "                                                          \n",
    "                return 0\n",
    "                \n",
    "        if found == False: return -1\n",
    "            \n",
    "    def findSpace(self, chunks_needed):\n",
    "        for i in range(len(self.memory_chunk_positions)):\n",
    "            didnt_find_it = False\n",
    "            print(i)\n",
    "            for j in range(chunks_needed):\n",
    "                if self.memory_chunk_positions[i]+(chunk_size*j) != self.memory_chunk_positions[i+j]:\n",
    "                    didnt_find_it = True\n",
    "                    print(str(i),str(j))\n",
    "            \n",
    "            if didnt_find_it == False:\n",
    "                return i\n",
    "        return -1\n",
    "    \n",
    "    def allocate(self, size, memory=None):\n",
    "        if memory == None: memory = self.memory_\n",
    "        \n",
    "        chunks_needed = math.ceil(size / self.chunk_size)\n",
    "        \n",
    "        allocate_at = self.findSpace(chunks_needed)\n",
    "        \n",
    "        print(\"Allocated at \" + str(int(allocate_at)))\n",
    "        return (allocate_at, size)"
   ]
  },
  {
   "cell_type": "code",
   "execution_count": null,
   "metadata": {},
   "outputs": [],
   "source": []
  },
  {
   "cell_type": "code",
   "execution_count": 6,
   "metadata": {},
   "outputs": [
    {
     "name": "stdout",
     "output_type": "stream",
     "text": [
      "Positions: [0]\n",
      "Pool:   [2, 2, 2, 2, 2, 2, 2, 2]\n",
      "Allocated: []\n",
      "\n",
      "Allocated at -1\n"
     ]
    },
    {
     "data": {
      "text/plain": [
       "(-1, 3)"
      ]
     },
     "execution_count": 6,
     "metadata": {},
     "output_type": "execute_result"
    }
   ],
   "source": [
    "memory_ = memory(16)\n",
    "allocator = pool_allocator(2, memory_)\n",
    "\n",
    "print(str(allocator) + \"\\n\")\n",
    "\n",
    "allocator.allocate(3)\n",
    "\n",
    "# print(\"\\n\")\n",
    "# print(str(allocator))\n",
    "\n",
    "# allocator.allocate(3)\n",
    "\n",
    "# print(\"\\n\")\n",
    "# print(str(allocator))\n",
    "\n",
    "# allocator.deallocate(4)\n",
    "\n",
    "# print(\"\\n\")\n",
    "# print(str(allocator))"
   ]
  },
  {
   "cell_type": "code",
   "execution_count": null,
   "metadata": {},
   "outputs": [],
   "source": []
  }
 ],
 "metadata": {
  "kernelspec": {
   "display_name": "Python 3",
   "language": "python",
   "name": "python3"
  },
  "language_info": {
   "codemirror_mode": {
    "name": "ipython",
    "version": 3
   },
   "file_extension": ".py",
   "mimetype": "text/x-python",
   "name": "python",
   "nbconvert_exporter": "python",
   "pygments_lexer": "ipython3",
   "version": "3.6.6"
  }
 },
 "nbformat": 4,
 "nbformat_minor": 2
}
