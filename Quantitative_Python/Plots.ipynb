{
 "cells": [
  {
   "cell_type": "code",
   "execution_count": 2,
   "metadata": {},
   "outputs": [],
   "source": [
    "import matplotlib.pyplot as plt\n",
    "import numpy as np\n",
    "%matplotlib inline"
   ]
  },
  {
   "cell_type": "code",
   "execution_count": 156,
   "metadata": {},
   "outputs": [
    {
     "data": {
      "image/png": "[encoded data removed]",
      "text/plain": [
       "<Figure size 432x288 with 1 Axes>"
      ]
     },
     "metadata": {
      "needs_background": "light"
     },
     "output_type": "display_data"
    }
   ],
   "source": [
    "x = np.random.chisquare(10, 1000)\n",
    "plt.hist(x, density=True, bins=20, rwidth=0.9, align='mid')\n",
    "# plt.title('Object sizes requested for allocation')\n",
    "plt.ylabel('Frequency of allocation');\n",
    "plt.xlabel('Size of allocation');\n",
    "# print(plt.xlim()[1])\n",
    "# plt.xlim()[1]\n",
    "# plt.xticks(np.logspace(0, np.log10(plt.xlim()[1]), 10))\n",
    "# plt.xticks(plt.xticks()[1],(str(x) for x in plt.xticks()[1]))\n",
    "# plt.xticks(1,['1'])\n",
    "# plt.xticks(np.logspace(0, 1, 4))\n",
    "# print(2**np.arange(0,len(plt.xticks()[1]),1))\n",
    "# print(str(x) for x in plt.xticks()[1])\n",
    "\n",
    "# plt.xticks((0, 0.5, 1), (\"0\", \"0.5\", \"1\"))\n",
    "plt.savefig('histogram.pdf')"
   ]
  },
  {
   "cell_type": "code",
   "execution_count": 103,
   "metadata": {},
   "outputs": [
    {
     "name": "stdout",
     "output_type": "stream",
     "text": [
      "[ 1  2  4  8 16 32]\n"
     ]
    }
   ],
   "source": [
    "print(2**np.arange(0,6,1))"
   ]
  },
  {
   "cell_type": "code",
   "execution_count": 196,
   "metadata": {},
   "outputs": [
    {
     "data": {
      "image/png": "[encoded data removed]",
      "text/plain": [
       "<Figure size 432x288 with 1 Axes>"
      ]
     },
     "metadata": {
      "needs_background": "light"
     },
     "output_type": "display_data"
    }
   ],
   "source": [
    "n_ticks = 12\n",
    "x = np.random.chisquare(10, 1000)\n",
    "plt.hist(x, density=True, bins=10, rwidth=0.9, align='mid')\n",
    "# plt.title('Object sizes requested for allocation')\n",
    "plt.ylabel('Relative frequency of allocation');\n",
    "plt.xlabel('Size of allocation [bytes]');\n",
    "plt.xticks([x*3 for x in range(n_ticks)], [str(2**x) for x in range(n_ticks)])\n",
    "# plt.yticks([x]*100)\n",
    "plt.savefig('histogram.pdf')"
   ]
  },
  {
   "cell_type": "code",
   "execution_count": 188,
   "metadata": {},
   "outputs": [
    {
     "data": {
      "text/plain": [
       "[0, 3, 6, 9, 12, 15, 18, 21, 24, 27, 30, 33]"
      ]
     },
     "execution_count": 188,
     "metadata": {},
     "output_type": "execute_result"
    }
   ],
   "source": [
    "[x*3 for x in range(n_ticks)]"
   ]
  },
  {
   "cell_type": "code",
   "execution_count": 195,
   "metadata": {},
   "outputs": [
    {
     "data": {
      "text/plain": [
       "['1', '2', '4', '8', '16', '32', '64', '128', '256', '512', '1024', '2048']"
      ]
     },
     "execution_count": 195,
     "metadata": {},
     "output_type": "execute_result"
    }
   ],
   "source": [
    "[str(2**x) for x in range(n_ticks)]"
   ]
  }
 ],
 "metadata": {
  "kernelspec": {
   "display_name": "deepcredit",
   "language": "python",
   "name": "deepcredit"
  },
  "language_info": {
   "codemirror_mode": {
    "name": "ipython",
    "version": 3
   },
   "file_extension": ".py",
   "mimetype": "text/x-python",
   "name": "python",
   "nbconvert_exporter": "python",
   "pygments_lexer": "ipython3",
   "version": "3.6.0"
  }
 },
 "nbformat": 4,
 "nbformat_minor": 2
}
