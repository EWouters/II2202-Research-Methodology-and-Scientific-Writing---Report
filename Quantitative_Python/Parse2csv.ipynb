{
 "cells": [
  {
   "cell_type": "code",
   "execution_count": 1,
   "metadata": {},
   "outputs": [],
   "source": [
    "import os\n",
    "import re\n",
    "import pandas as pd"
   ]
  },
  {
   "cell_type": "code",
   "execution_count": 2,
   "metadata": {},
   "outputs": [
    {
     "name": "stdout",
     "output_type": "stream",
     "text": [
      "../Benchmark results/halloc_opts\n"
     ]
    }
   ],
   "source": [
    "results_folder = [os.pardir,\"Benchmark results\",\"halloc_opts\"]\n",
    "# results_folder = [os.pardir,\"Benchmark results\"]\n",
    "print(os.path.join(*results_folder))\n"
   ]
  },
  {
   "cell_type": "code",
   "execution_count": 3,
   "metadata": {},
   "outputs": [],
   "source": [
    "parsable_keys = {\n",
    "    \"HALLOC_FRACTION\": \"hf-\",\n",
    "    \"BUSY_FRACTION\": \"bu-\",\n",
    "    \"ROOMY_FRACTION\": \"ro-\",\n",
    "    \"SPARSE_FRACTION\": \"sp-\",\n",
    "    \"MAX_BLOCK_SZ\": \"mb-\",\n",
    "    \"MAX_NSIZES\": \"ns-\",\n",
    "    \"MAX_NCHUNK_IDS\": \"nc-\",\n",
    "    \"BLOCK_STEP\": \"bst-\",\n",
    "    \"NUNITS\": \"nu-\",\n",
    "    \"MIN_BLOCK_SZ\": \"mibs-\",\n",
    "    \"MAX_BLOCK_SZ\": \"mabs-\",\n",
    "}"
   ]
  },
  {
   "cell_type": "code",
   "execution_count": 4,
   "metadata": {},
   "outputs": [],
   "source": [
    "default_params = {\n",
    "    \"HALLOC_FRACTION\": 0.25,\n",
    "    \"BUSY_FRACTION\": 0.835,\n",
    "    \"ROOMY_FRACTION\": 0.6,\n",
    "    \"SPARSE_FRACTION\": 0.012,\n",
    "    \"MAX_BLOCK_SZ\": 3072,\n",
    "    \"MAX_NSIZES\": 16,\n",
    "    \"MAX_NCHUNK_IDS\": 8,\n",
    "    \"BLOCK_STEP\": 16,\n",
    "    \"NUNITS\": 8,\n",
    "    \"MIN_BLOCK_SZ\": 16,\n",
    "    \"MAX_BLOCK_SZ\": 3072,\n",
    "}"
   ]
  },
  {
   "cell_type": "code",
   "execution_count": 5,
   "metadata": {},
   "outputs": [],
   "source": [
    "expr = \"total\\s+images\\/sec:\\s+([0-9]*\\.?[0-9]+)\"\n",
    "expr = r'total\\s+images\\/sec:\\s+(\\d+\\.*\\d*)'\n",
    "r = re.compile(expr)"
   ]
  },
  {
   "cell_type": "code",
   "execution_count": 6,
   "metadata": {},
   "outputs": [],
   "source": [
    "values_dict = {}"
   ]
  },
  {
   "cell_type": "code",
   "execution_count": 7,
   "metadata": {},
   "outputs": [
    {
     "name": "stdout",
     "output_type": "stream",
     "text": [
      "Empty DataFrame\n",
      "Columns: [ALLOCATOR, NETWORK, IMAGES_SEC, HALLOC_FRACTION, BUSY_FRACTION, ROOMY_FRACTION, SPARSE_FRACTION, MAX_BLOCK_SZ, MAX_NSIZES, MAX_NCHUNK_IDS, BLOCK_STEP, NUNITS, MIN_BLOCK_SZ]\n",
      "Index: []\n"
     ]
    }
   ],
   "source": [
    "cols = [\"ALLOCATOR\", \"NETWORK\", \"IMAGES_SEC\"] + list(parsable_keys.keys())\n",
    "df = pd.DataFrame(columns=cols)\n",
    "print(df)"
   ]
  },
  {
   "cell_type": "code",
   "execution_count": 8,
   "metadata": {},
   "outputs": [
    {
     "name": "stdout",
     "output_type": "stream",
     "text": [
      "results.csv\n"
     ]
    },
    {
     "data": {
      "text/html": [
       "<div>\n",
       "<style scoped>\n",
       "    .dataframe tbody tr th:only-of-type {\n",
       "        vertical-align: middle;\n",
       "    }\n",
       "\n",
       "    .dataframe tbody tr th {\n",
       "        vertical-align: top;\n",
       "    }\n",
       "\n",
       "    .dataframe thead th {\n",
       "        text-align: right;\n",
       "    }\n",
       "</style>\n",
       "<table border=\"1\" class=\"dataframe\">\n",
       "  <thead>\n",
       "    <tr style=\"text-align: right;\">\n",
       "      <th></th>\n",
       "      <th>ALLOCATOR</th>\n",
       "      <th>NETWORK</th>\n",
       "      <th>IMAGES_SEC</th>\n",
       "      <th>HALLOC_FRACTION</th>\n",
       "      <th>BUSY_FRACTION</th>\n",
       "      <th>ROOMY_FRACTION</th>\n",
       "      <th>SPARSE_FRACTION</th>\n",
       "      <th>MAX_BLOCK_SZ</th>\n",
       "      <th>MAX_NSIZES</th>\n",
       "      <th>MAX_NCHUNK_IDS</th>\n",
       "      <th>BLOCK_STEP</th>\n",
       "      <th>NUNITS</th>\n",
       "      <th>MIN_BLOCK_SZ</th>\n",
       "    </tr>\n",
       "  </thead>\n",
       "  <tbody>\n",
       "  </tbody>\n",
       "</table>\n",
       "</div>"
      ],
      "text/plain": [
       "Empty DataFrame\n",
       "Columns: [ALLOCATOR, NETWORK, IMAGES_SEC, HALLOC_FRACTION, BUSY_FRACTION, ROOMY_FRACTION, SPARSE_FRACTION, MAX_BLOCK_SZ, MAX_NSIZES, MAX_NCHUNK_IDS, BLOCK_STEP, NUNITS, MIN_BLOCK_SZ]\n",
       "Index: []"
      ]
     },
     "execution_count": 8,
     "metadata": {},
     "output_type": "execute_result"
    }
   ],
   "source": [
    "for file in os.listdir(os.path.join(*results_folder)):\n",
    "    #do something\n",
    "\tprint(file)\n",
    "\tfile_name = os.path.splitext(file)\n",
    "\tif file_name[-1] == \".txt\":\n",
    "\t\tparams = default_params\n",
    "\t\tprint(file_name[0].split('_'))\n",
    "\t\t\n",
    "\t\tfile_split = file_name[0].split('_')\n",
    "\t\tparams[\"ALLOCATOR\"] = file_split.pop(0)\n",
    "\t\tparams[\"NETWORK\"] = file_split.pop(0)\n",
    "\t\tfor part in file_split:\n",
    "\t\t\tfor key, value in parsable_keys.items():\n",
    "\t\t\t\tif value in part:\n",
    "\t\t\t\t\tprint(key, part.split('-')[-1])\n",
    "\t\t\t\t\tparams[key]=float(part.split('-')[-1])\n",
    "\t\tprint(params)\n",
    "\t\t\n",
    "\t\tmatches = [re.findall(expr,line) for line in open(os.path.join(*results_folder, file))]\n",
    "\t\tmatches = [float(x[0]) for x in matches if len(x)]\n",
    "\t\tprint(matches)\n",
    "\t\t\n",
    "\t\tif len(matches):\n",
    "\t\t\tfor match in matches:\n",
    "\t\t\t\tparams[\"IMAGES_SEC\"] = match\n",
    "\t\t\t\tdf = df.append(params, ignore_index=True)\n",
    "\t\telse:\n",
    "\t\t\tparams[\"IMAGES_SEC\"] = float('NaN')\n",
    "\t\t\tdf = df.append(params, ignore_index=True)\n",
    "df"
   ]
  },
  {
   "cell_type": "code",
   "execution_count": 9,
   "metadata": {},
   "outputs": [],
   "source": [
    "df.to_csv(os.path.join(*results_folder,'results.csv'))"
   ]
  }
 ],
 "metadata": {
  "kernelspec": {
   "display_name": "Python 3",
   "language": "python",
   "name": "python3"
  },
  "language_info": {
   "codemirror_mode": {
    "name": "ipython",
    "version": 3
   },
   "file_extension": ".py",
   "mimetype": "text/x-python",
   "name": "python",
   "nbconvert_exporter": "python",
   "pygments_lexer": "ipython3",
   "version": "3.7.0"
  }
 },
 "nbformat": 4,
 "nbformat_minor": 2
}
