{
 "cells": [
  {
   "cell_type": "code",
   "execution_count": null,
   "metadata": {},
   "outputs": [],
   "source": [
    "%matplotlib ipympl\n",
    "import random"
   ]
  },
  {
   "cell_type": "code",
   "execution_count": null,
   "metadata": {},
   "outputs": [],
   "source": [
    "class memory:\n",
    "    def __init__(self, size):\n",
    "        self.size = size # memory size in bytes\n",
    "        self.free_mem = size\n",
    "        self.memory = [ False ] * size\n",
    "    \n",
    "    def __str__(self):\n",
    "        str1  = \"Size: {} bytes\\n\".format(str(self.size))\n",
    "        str1 += \"Free: {} bytes\\n\".format(str(self.free_mem))\n",
    "        str1 += str(list(int(i) for i in self.memory))\n",
    "        return str1\n",
    "                \n",
    "    def writeAllocation(self, position, size):\n",
    "        self.memory[position: position+size] = [True] * size\n",
    "            \n",
    "    def isThereSpace(self, position, size):\n",
    "        if position+size > self.size:\n",
    "            return 0\n",
    "        return sum(self.memory[position : position+size]) == 0\n",
    "\n",
    "    def get_number_free_chunks(self, size):\n",
    "        num = 0\n",
    "        i = 0\n",
    "        while i < self.memory.size:\n",
    "            if self.memory.isThereSpace(i,size):\n",
    "                num += 1\n",
    "                i += size\n",
    "            else:\n",
    "                i += 1\n",
    "        return num\n",
    "        \n",
    "    def get_fragmentation(self, size_x=4):\n",
    "        if size_x > self.memory.free_mem:\n",
    "            return 1\n",
    "        num_free_chunks_of_size_x = self.get_number_free_chunks(size_x)\n",
    "        return 1-size_x*num_free_chunks_of_size_x/self.memory.free_mem"
   ]
  },
  {
   "cell_type": "code",
   "execution_count": null,
   "metadata": {},
   "outputs": [],
   "source": [
    "class random_allocator:        \n",
    "    def allocate(self, size):\n",
    "        allocated = False\n",
    "        while not allocated:\n",
    "            pick_place_to_allocate = random.randint(0,memory.size-1-size)\n",
    "            if memory.isThereSpace(pick_place_to_allocate, size):\n",
    "                memory.writeAllocation(pick_place_to_allocate, size)\n",
    "                memory.free_mem -= size\n",
    "                allocated = True"
   ]
  },
  {
   "cell_type": "code",
   "execution_count": null,
   "metadata": {},
   "outputs": [],
   "source": [
    "class sequential_allocator:        \n",
    "    def allocate(self, size):\n",
    "        memory.writeAllocation(memory.size-memory.free_mem, size)\n",
    "        memory.free_mem -= size"
   ]
  },
  {
   "cell_type": "code",
   "execution_count": null,
   "metadata": {},
   "outputs": [],
   "source": [
    "memory = "
   ]
  }
 ],
 "metadata": {
  "kernelspec": {
   "display_name": "Python 3",
   "language": "python",
   "name": "python3"
  },
  "language_info": {
   "codemirror_mode": {
    "name": "ipython",
    "version": 3
   },
   "file_extension": ".py",
   "mimetype": "text/x-python",
   "name": "python",
   "nbconvert_exporter": "python",
   "pygments_lexer": "ipython3",
   "version": "3.6.6"
  }
 },
 "nbformat": 4,
 "nbformat_minor": 2
}
