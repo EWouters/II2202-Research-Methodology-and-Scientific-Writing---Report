{
 "cells": [
  {
   "cell_type": "markdown",
   "metadata": {},
   "source": [
    "- Fragmentation (from [here](https://dl.acm.org/citation.cfm?id=2893731))\n",
    "- $\\text{fragmentation}(x) = 1 - \\frac{x \\times\\#(\\text{free chuncks of size } x)}{\\text{free space}}$"
   ]
  },
  {
   "cell_type": "code",
   "execution_count": 1,
   "metadata": {},
   "outputs": [],
   "source": [
    "%matplotlib ipympl\n",
    "import random"
   ]
  },
  {
   "cell_type": "markdown",
   "metadata": {},
   "source": [
    "https://github.com/matplotlib/jupyter-matplotlib"
   ]
  },
  {
   "cell_type": "code",
   "execution_count": 2,
   "metadata": {},
   "outputs": [],
   "source": [
    "def add_var(alloc_size=30, alloc_time=1, dealloc_time=10):\n",
    "    return {\"alloc_size\":alloc_size, \"alloc_time\":alloc_time, \"dealloc_time\":dealloc_time}"
   ]
  },
  {
   "cell_type": "code",
   "execution_count": 402,
   "metadata": {},
   "outputs": [],
   "source": [
    "class memory:\n",
    "    def __init__(self, size):\n",
    "        self.size = size # memory size in bytes\n",
    "        self.free_mem = size\n",
    "        self.memory = [ False ] * size\n",
    "    \n",
    "    def __str__(self):\n",
    "        str1  = \"Size: {} bytes\\n\".format(str(self.size))\n",
    "        str1 += \"Free: {} bytes\\n\".format(str(self.free_mem))\n",
    "        str1 += str(list(int(i) for i in self.memory))\n",
    "        return str1\n",
    "                \n",
    "    def writeAllocation(self, position, size):\n",
    "        self.memory[position: position+size] = [True] * size\n",
    "            \n",
    "    def isThereSpace(self, position, size):\n",
    "        if position+size > self.size:\n",
    "            return 0\n",
    "        return sum(self.memory[position: position+size]) == 0"
   ]
  },
  {
   "cell_type": "code",
   "execution_count": 403,
   "metadata": {},
   "outputs": [],
   "source": [
    "class random_allocated_memory(memory):\n",
    "    def allocate(self, size):\n",
    "        allocated = False\n",
    "        while not allocated:\n",
    "            pick_place_to_allocate = random.randint(0,self.size-1-size)\n",
    "            if self.isThereSpace(pick_place_to_allocate, size):\n",
    "                self.writeAllocation(pick_place_to_allocate, size)\n",
    "                self.free_mem -= size\n",
    "                allocated = True"
   ]
  },
  {
   "cell_type": "code",
   "execution_count": 404,
   "metadata": {},
   "outputs": [],
   "source": [
    "class sequential(memory):\n",
    "    def allocate(self, size):\n",
    "        self.writeAllocation(self.size-self.free_mem, size)\n",
    "        self.free_mem -= size"
   ]
  },
  {
   "cell_type": "code",
   "execution_count": 405,
   "metadata": {},
   "outputs": [],
   "source": [
    "class mpattern:\n",
    "    'Allocation pattern'\n",
    "    \n",
    "    def __init__(self, size, memory_class=random_allocated_memory):\n",
    "        self.allocation_list = [] # allocation_list is a list of byte sizes of objects to be allocated.\n",
    "        self.memory = memory_class(size)\n",
    "    \n",
    "    def __str__(self):\n",
    "        str1 = \"Allocations:\\n\" + str(self.allocation_list)\n",
    "        str1 += \"\\nMemory:\\n\" + str(self.memory)\n",
    "        str1 += \"\\nFragmentation (of 4 bytes): {:.3f}\".format(self.get_fragmentation())\n",
    "        return str1\n",
    "        \n",
    "    def add_var(self, alloc_size=30):\n",
    "        self.allocation_list.append(alloc_size)\n",
    "    \n",
    "    def create_pattern(self, sizes, numbers):\n",
    "        if not isinstance(sizes, list):\n",
    "            sizes = [sizes]\n",
    "        if not isinstance(numbers, list):\n",
    "            numbers = [numbers]\n",
    "        assert len(sizes)==len(numbers), \"Have to supply integers or lists of the same length. \" + str(sizes) + \" \" + str(numbers)\n",
    "        for s, n in zip(sizes,numbers):\n",
    "            for i in range(n):\n",
    "                self.allocation_list.append(s)\n",
    "                self.memory.allocate(s)\n",
    "        \n",
    "    def get_number_free_chunks(self, size):\n",
    "        num = 0\n",
    "        i = 0\n",
    "        while i < self.memory.size:\n",
    "            if self.memory.isThereSpace(i,size):\n",
    "                num += 1\n",
    "                i += size\n",
    "            else:\n",
    "                i += 1\n",
    "        return num\n",
    "        \n",
    "    def get_fragmentation(self, size_x=4):\n",
    "        if size_x > self.memory.free_mem:\n",
    "            return 1\n",
    "        num_free_chunks_of_size_x = self.get_number_free_chunks(size_x)\n",
    "        return 1-size_x*num_free_chunks_of_size_x/self.memory.free_mem"
   ]
  },
  {
   "cell_type": "code",
   "execution_count": 406,
   "metadata": {},
   "outputs": [],
   "source": [
    "mem = mpattern(200, random_allocated_memory)"
   ]
  },
  {
   "cell_type": "code",
   "execution_count": 407,
   "metadata": {},
   "outputs": [],
   "source": [
    "mem.add_var(1)"
   ]
  },
  {
   "cell_type": "code",
   "execution_count": 408,
   "metadata": {},
   "outputs": [],
   "source": [
    "mem.create_pattern(3,40)"
   ]
  },
  {
   "cell_type": "code",
   "execution_count": 409,
   "metadata": {},
   "outputs": [],
   "source": [
    "#mem.allocation_list"
   ]
  },
  {
   "cell_type": "code",
   "execution_count": 410,
   "metadata": {},
   "outputs": [],
   "source": [
    "mem.memory.allocate(3)"
   ]
  },
  {
   "cell_type": "code",
   "execution_count": 411,
   "metadata": {},
   "outputs": [
    {
     "name": "stdout",
     "output_type": "stream",
     "text": [
      "Allocations:\n",
      "[1, 3, 3, 3, 3, 3, 3, 3, 3, 3, 3, 3, 3, 3, 3, 3, 3, 3, 3, 3, 3, 3, 3, 3, 3, 3, 3, 3, 3, 3, 3, 3, 3, 3, 3, 3, 3, 3, 3, 3, 3]\n",
      "Memory:\n",
      "Size: 200 bytes\n",
      "Free: 77 bytes\n",
      "[0, 1, 1, 1, 1, 1, 1, 0, 0, 0, 0, 0, 0, 0, 0, 0, 0, 0, 1, 1, 1, 0, 1, 1, 1, 0, 0, 1, 1, 1, 0, 0, 1, 1, 1, 0, 0, 1, 1, 1, 0, 0, 1, 1, 1, 1, 1, 1, 0, 1, 1, 1, 1, 1, 1, 0, 0, 0, 0, 0, 0, 0, 0, 1, 1, 1, 0, 0, 0, 0, 1, 1, 1, 1, 1, 1, 1, 1, 1, 1, 1, 1, 1, 1, 1, 0, 0, 0, 1, 1, 1, 0, 0, 0, 0, 0, 0, 0, 0, 1, 1, 1, 0, 0, 1, 1, 1, 1, 1, 1, 0, 1, 1, 1, 1, 1, 1, 0, 0, 0, 0, 0, 0, 0, 1, 1, 1, 0, 1, 1, 1, 1, 1, 1, 1, 1, 1, 1, 1, 1, 1, 1, 1, 0, 0, 0, 0, 1, 1, 1, 0, 0, 1, 1, 1, 0, 1, 1, 1, 1, 1, 1, 0, 0, 1, 1, 1, 0, 1, 1, 1, 0, 1, 1, 1, 0, 0, 1, 1, 1, 1, 1, 1, 0, 0, 0, 0, 1, 1, 1, 0, 0, 0, 1, 1, 1, 1, 1, 1, 0]\n",
      "Fragmentation (of 4 bytes): 0.481\n"
     ]
    }
   ],
   "source": [
    "print(mem)"
   ]
  },
  {
   "cell_type": "code",
   "execution_count": 412,
   "metadata": {},
   "outputs": [
    {
     "data": {
      "text/plain": [
       "1.0"
      ]
     },
     "execution_count": 412,
     "metadata": {},
     "output_type": "execute_result"
    }
   ],
   "source": [
    "mem.get_fragmentation(30)"
   ]
  },
  {
   "cell_type": "code",
   "execution_count": 516,
   "metadata": {},
   "outputs": [],
   "source": [
    "size = 512\n",
    "sizes = [2, 3, 4, 5, 6] # the order in which these are allocated influences the result (at least in the random allocator)\n",
    "numbers = [10, 5, 10, 5, 3]\n",
    "allocators = [\"random_allocated_memory\", \"sequential\"]"
   ]
  },
  {
   "cell_type": "code",
   "execution_count": 517,
   "metadata": {},
   "outputs": [
    {
     "name": "stdout",
     "output_type": "stream",
     "text": [
      "Allocations:\n",
      "[2, 2, 2, 2, 2, 2, 2, 2, 2, 2, 3, 3, 3, 3, 3, 4, 4, 4, 4, 4, 4, 4, 4, 4, 4, 5, 5, 5, 5, 5, 6, 6, 6]\n",
      "Memory:\n",
      "Size: 512 bytes\n",
      "Free: 394 bytes\n",
      "[0, 0, 0, 0, 0, 0, 0, 0, 0, 0, 0, 0, 0, 0, 0, 0, 1, 1, 1, 1, 1, 1, 1, 1, 0, 0, 0, 0, 0, 0, 0, 0, 0, 0, 0, 0, 0, 0, 0, 0, 0, 0, 0, 0, 0, 0, 0, 0, 0, 0, 0, 0, 0, 0, 0, 0, 0, 0, 0, 0, 0, 0, 0, 0, 0, 0, 0, 0, 0, 0, 0, 0, 0, 0, 0, 0, 0, 0, 0, 0, 0, 0, 0, 0, 0, 0, 0, 0, 0, 0, 0, 1, 1, 1, 1, 0, 1, 1, 0, 0, 0, 0, 0, 0, 0, 0, 0, 0, 0, 0, 0, 0, 0, 0, 1, 1, 1, 1, 0, 1, 1, 1, 1, 0, 0, 0, 0, 0, 0, 0, 0, 0, 1, 1, 0, 0, 0, 0, 0, 0, 0, 0, 0, 0, 0, 0, 0, 1, 1, 1, 0, 1, 1, 1, 0, 0, 0, 0, 0, 0, 0, 0, 0, 0, 0, 0, 0, 0, 0, 0, 0, 0, 0, 0, 0, 0, 0, 0, 0, 0, 0, 0, 0, 0, 0, 1, 1, 1, 1, 0, 0, 0, 0, 0, 0, 0, 0, 1, 1, 1, 1, 1, 1, 0, 0, 0, 0, 0, 0, 0, 0, 0, 0, 0, 0, 0, 0, 0, 0, 0, 0, 1, 1, 0, 0, 0, 0, 0, 0, 0, 0, 0, 0, 0, 0, 0, 0, 0, 0, 0, 0, 0, 1, 1, 1, 1, 1, 0, 0, 0, 0, 0, 0, 0, 0, 0, 1, 1, 0, 0, 1, 1, 1, 1, 1, 0, 0, 0, 0, 0, 0, 0, 0, 0, 0, 0, 0, 0, 0, 1, 1, 1, 0, 0, 1, 1, 1, 1, 0, 0, 0, 0, 1, 1, 1, 1, 0, 0, 0, 0, 0, 0, 1, 1, 1, 1, 1, 1, 0, 0, 0, 0, 0, 0, 0, 1, 1, 1, 1, 1, 1, 0, 0, 0, 0, 0, 0, 0, 0, 0, 0, 0, 0, 0, 0, 0, 0, 1, 1, 1, 1, 0, 0, 0, 0, 0, 1, 1, 1, 1, 0, 0, 0, 0, 0, 0, 0, 0, 0, 0, 0, 0, 1, 1, 1, 1, 1, 0, 0, 0, 0, 0, 0, 0, 0, 0, 0, 0, 1, 1, 1, 0, 0, 0, 0, 0, 0, 1, 1, 1, 1, 0, 1, 1, 1, 1, 1, 0, 1, 1, 1, 1, 0, 0, 0, 0, 0, 0, 0, 0, 0, 0, 0, 0, 0, 0, 0, 0, 0, 0, 0, 0, 0, 0, 0, 0, 0, 0, 0, 0, 0, 1, 1, 1, 1, 1, 1, 0, 0, 0, 0, 0, 0, 0, 0, 0, 0, 0, 0, 0, 0, 0, 0, 0, 0, 1, 1, 0, 0, 0, 0, 0, 0, 0, 0, 0, 0, 0, 0, 0, 0, 1, 1, 0, 1, 1, 0, 0, 0, 0, 0, 0, 0, 0, 0, 0, 0, 0, 0, 0, 0, 0, 0, 0, 0, 0, 0, 0, 0, 0, 0, 0, 0, 0, 0, 0, 0, 0, 0, 0, 0, 0]\n",
      "Fragmentation (of 4 bytes): 0.107\n",
      "Allocations:\n",
      "[2, 2, 2, 2, 2, 2, 2, 2, 2, 2, 3, 3, 3, 3, 3, 4, 4, 4, 4, 4, 4, 4, 4, 4, 4, 5, 5, 5, 5, 5, 6, 6, 6]\n",
      "Memory:\n",
      "Size: 512 bytes\n",
      "Free: 394 bytes\n",
      "[1, 1, 1, 1, 1, 1, 1, 1, 1, 1, 1, 1, 1, 1, 1, 1, 1, 1, 1, 1, 1, 1, 1, 1, 1, 1, 1, 1, 1, 1, 1, 1, 1, 1, 1, 1, 1, 1, 1, 1, 1, 1, 1, 1, 1, 1, 1, 1, 1, 1, 1, 1, 1, 1, 1, 1, 1, 1, 1, 1, 1, 1, 1, 1, 1, 1, 1, 1, 1, 1, 1, 1, 1, 1, 1, 1, 1, 1, 1, 1, 1, 1, 1, 1, 1, 1, 1, 1, 1, 1, 1, 1, 1, 1, 1, 1, 1, 1, 1, 1, 1, 1, 1, 1, 1, 1, 1, 1, 1, 1, 1, 1, 1, 1, 1, 1, 1, 1, 0, 0, 0, 0, 0, 0, 0, 0, 0, 0, 0, 0, 0, 0, 0, 0, 0, 0, 0, 0, 0, 0, 0, 0, 0, 0, 0, 0, 0, 0, 0, 0, 0, 0, 0, 0, 0, 0, 0, 0, 0, 0, 0, 0, 0, 0, 0, 0, 0, 0, 0, 0, 0, 0, 0, 0, 0, 0, 0, 0, 0, 0, 0, 0, 0, 0, 0, 0, 0, 0, 0, 0, 0, 0, 0, 0, 0, 0, 0, 0, 0, 0, 0, 0, 0, 0, 0, 0, 0, 0, 0, 0, 0, 0, 0, 0, 0, 0, 0, 0, 0, 0, 0, 0, 0, 0, 0, 0, 0, 0, 0, 0, 0, 0, 0, 0, 0, 0, 0, 0, 0, 0, 0, 0, 0, 0, 0, 0, 0, 0, 0, 0, 0, 0, 0, 0, 0, 0, 0, 0, 0, 0, 0, 0, 0, 0, 0, 0, 0, 0, 0, 0, 0, 0, 0, 0, 0, 0, 0, 0, 0, 0, 0, 0, 0, 0, 0, 0, 0, 0, 0, 0, 0, 0, 0, 0, 0, 0, 0, 0, 0, 0, 0, 0, 0, 0, 0, 0, 0, 0, 0, 0, 0, 0, 0, 0, 0, 0, 0, 0, 0, 0, 0, 0, 0, 0, 0, 0, 0, 0, 0, 0, 0, 0, 0, 0, 0, 0, 0, 0, 0, 0, 0, 0, 0, 0, 0, 0, 0, 0, 0, 0, 0, 0, 0, 0, 0, 0, 0, 0, 0, 0, 0, 0, 0, 0, 0, 0, 0, 0, 0, 0, 0, 0, 0, 0, 0, 0, 0, 0, 0, 0, 0, 0, 0, 0, 0, 0, 0, 0, 0, 0, 0, 0, 0, 0, 0, 0, 0, 0, 0, 0, 0, 0, 0, 0, 0, 0, 0, 0, 0, 0, 0, 0, 0, 0, 0, 0, 0, 0, 0, 0, 0, 0, 0, 0, 0, 0, 0, 0, 0, 0, 0, 0, 0, 0, 0, 0, 0, 0, 0, 0, 0, 0, 0, 0, 0, 0, 0, 0, 0, 0, 0, 0, 0, 0, 0, 0, 0, 0, 0, 0, 0, 0, 0, 0, 0, 0, 0, 0, 0, 0, 0, 0, 0, 0, 0, 0, 0, 0, 0, 0, 0, 0, 0, 0, 0, 0, 0, 0, 0, 0, 0, 0, 0, 0, 0, 0, 0, 0, 0, 0, 0, 0, 0, 0, 0, 0, 0, 0, 0, 0, 0, 0]\n",
      "Fragmentation (of 4 bytes): 0.005\n"
     ]
    },
    {
     "data": {
      "text/plain": [
       "{'random_allocated_memory': <__main__.mpattern at 0x7ff9fe0c6898>,\n",
       " 'sequential': <__main__.mpattern at 0x7ff9fe0c6c88>}"
      ]
     },
     "execution_count": 517,
     "metadata": {},
     "output_type": "execute_result"
    }
   ],
   "source": [
    "fragmentations = []\n",
    "results = {}\n",
    "for al in allocators:\n",
    "    results[al] = mpattern(size, eval(al))\n",
    "    results[al].create_pattern(sizes, numbers)\n",
    "    print(results[al])\n",
    "results"
   ]
  },
  {
   "cell_type": "code",
   "execution_count": 518,
   "metadata": {},
   "outputs": [],
   "source": [
    "def runs(size, sizes, numbers, allocators, nruns=1):\n",
    "    fragmentations = {}\n",
    "    results = {}\n",
    "    for al in allocators:\n",
    "        print(\"Allocator: {}\".format(str(al)))\n",
    "        fragmentations[al] = []\n",
    "        for n in range(nruns):\n",
    "            results[al + str(n)] = mpattern(size, eval(al))\n",
    "            results[al + str(n)].create_pattern(sizes, numbers)\n",
    "            print(\" Run: {0:d}, Fragmentation: {1:.3f}\".format(n, results[al + str(n)].get_fragmentation()))\n",
    "            #print(str(results[al + str(n)]).replace(\"\\n\",\"\\n  \"))\n",
    "            #print(\" Fragmentation: {}\" + str(results[al + str(n)].get_fragmentation()))\n",
    "            fragmentations[al].append(results[al + str(n)].get_fragmentation())\n",
    "    return fragmentations"
   ]
  },
  {
   "cell_type": "code",
   "execution_count": 519,
   "metadata": {},
   "outputs": [
    {
     "name": "stdout",
     "output_type": "stream",
     "text": [
      "Allocator: random_allocated_memory\n",
      " Run: 0, Fragmentation: 0.117\n",
      " Run: 1, Fragmentation: 0.117\n",
      " Run: 2, Fragmentation: 0.096\n",
      " Run: 3, Fragmentation: 0.127\n",
      " Run: 4, Fragmentation: 0.107\n",
      " Run: 5, Fragmentation: 0.137\n",
      " Run: 6, Fragmentation: 0.147\n",
      " Run: 7, Fragmentation: 0.127\n",
      " Run: 8, Fragmentation: 0.127\n",
      " Run: 9, Fragmentation: 0.127\n",
      " Run: 10, Fragmentation: 0.137\n",
      " Run: 11, Fragmentation: 0.076\n",
      " Run: 12, Fragmentation: 0.127\n",
      " Run: 13, Fragmentation: 0.117\n",
      " Run: 14, Fragmentation: 0.147\n",
      " Run: 15, Fragmentation: 0.117\n",
      " Run: 16, Fragmentation: 0.117\n",
      " Run: 17, Fragmentation: 0.117\n",
      " Run: 18, Fragmentation: 0.127\n",
      " Run: 19, Fragmentation: 0.127\n",
      " Run: 20, Fragmentation: 0.117\n",
      " Run: 21, Fragmentation: 0.127\n",
      " Run: 22, Fragmentation: 0.117\n",
      " Run: 23, Fragmentation: 0.147\n",
      " Run: 24, Fragmentation: 0.127\n",
      " Run: 25, Fragmentation: 0.157\n",
      " Run: 26, Fragmentation: 0.107\n",
      " Run: 27, Fragmentation: 0.117\n",
      " Run: 28, Fragmentation: 0.137\n",
      " Run: 29, Fragmentation: 0.117\n",
      " Run: 30, Fragmentation: 0.107\n",
      " Run: 31, Fragmentation: 0.117\n",
      " Run: 32, Fragmentation: 0.096\n",
      " Run: 33, Fragmentation: 0.147\n",
      " Run: 34, Fragmentation: 0.137\n",
      " Run: 35, Fragmentation: 0.127\n",
      " Run: 36, Fragmentation: 0.107\n",
      " Run: 37, Fragmentation: 0.127\n",
      " Run: 38, Fragmentation: 0.127\n",
      " Run: 39, Fragmentation: 0.127\n",
      " Run: 40, Fragmentation: 0.117\n",
      " Run: 41, Fragmentation: 0.137\n",
      " Run: 42, Fragmentation: 0.127\n",
      " Run: 43, Fragmentation: 0.117\n",
      " Run: 44, Fragmentation: 0.117\n",
      " Run: 45, Fragmentation: 0.127\n",
      " Run: 46, Fragmentation: 0.086\n",
      " Run: 47, Fragmentation: 0.107\n",
      " Run: 48, Fragmentation: 0.147\n",
      " Run: 49, Fragmentation: 0.096\n",
      " Run: 50, Fragmentation: 0.107\n",
      " Run: 51, Fragmentation: 0.107\n",
      " Run: 52, Fragmentation: 0.137\n",
      " Run: 53, Fragmentation: 0.107\n",
      " Run: 54, Fragmentation: 0.127\n",
      " Run: 55, Fragmentation: 0.137\n",
      " Run: 56, Fragmentation: 0.107\n",
      " Run: 57, Fragmentation: 0.107\n",
      " Run: 58, Fragmentation: 0.137\n",
      " Run: 59, Fragmentation: 0.127\n",
      " Run: 60, Fragmentation: 0.117\n",
      " Run: 61, Fragmentation: 0.127\n",
      " Run: 62, Fragmentation: 0.127\n",
      " Run: 63, Fragmentation: 0.137\n",
      " Run: 64, Fragmentation: 0.107\n",
      " Run: 65, Fragmentation: 0.107\n",
      " Run: 66, Fragmentation: 0.127\n",
      " Run: 67, Fragmentation: 0.137\n",
      " Run: 68, Fragmentation: 0.117\n",
      " Run: 69, Fragmentation: 0.127\n",
      " Run: 70, Fragmentation: 0.096\n",
      " Run: 71, Fragmentation: 0.117\n",
      " Run: 72, Fragmentation: 0.117\n",
      " Run: 73, Fragmentation: 0.096\n",
      " Run: 74, Fragmentation: 0.127\n",
      " Run: 75, Fragmentation: 0.107\n",
      " Run: 76, Fragmentation: 0.127\n",
      " Run: 77, Fragmentation: 0.137\n",
      " Run: 78, Fragmentation: 0.096\n",
      " Run: 79, Fragmentation: 0.137\n",
      " Run: 80, Fragmentation: 0.117\n",
      " Run: 81, Fragmentation: 0.107\n",
      " Run: 82, Fragmentation: 0.147\n",
      " Run: 83, Fragmentation: 0.137\n",
      " Run: 84, Fragmentation: 0.096\n",
      " Run: 85, Fragmentation: 0.107\n",
      " Run: 86, Fragmentation: 0.157\n",
      " Run: 87, Fragmentation: 0.127\n",
      " Run: 88, Fragmentation: 0.086\n",
      " Run: 89, Fragmentation: 0.107\n",
      " Run: 90, Fragmentation: 0.127\n",
      " Run: 91, Fragmentation: 0.107\n",
      " Run: 92, Fragmentation: 0.157\n",
      " Run: 93, Fragmentation: 0.147\n",
      " Run: 94, Fragmentation: 0.127\n",
      " Run: 95, Fragmentation: 0.147\n",
      " Run: 96, Fragmentation: 0.117\n",
      " Run: 97, Fragmentation: 0.096\n",
      " Run: 98, Fragmentation: 0.127\n",
      " Run: 99, Fragmentation: 0.127\n",
      "Allocator: sequential\n",
      " Run: 0, Fragmentation: 0.005\n",
      " Run: 1, Fragmentation: 0.005\n",
      " Run: 2, Fragmentation: 0.005\n",
      " Run: 3, Fragmentation: 0.005\n",
      " Run: 4, Fragmentation: 0.005\n",
      " Run: 5, Fragmentation: 0.005\n",
      " Run: 6, Fragmentation: 0.005\n",
      " Run: 7, Fragmentation: 0.005\n",
      " Run: 8, Fragmentation: 0.005\n",
      " Run: 9, Fragmentation: 0.005\n",
      " Run: 10, Fragmentation: 0.005\n",
      " Run: 11, Fragmentation: 0.005\n",
      " Run: 12, Fragmentation: 0.005\n",
      " Run: 13, Fragmentation: 0.005\n",
      " Run: 14, Fragmentation: 0.005\n",
      " Run: 15, Fragmentation: 0.005\n",
      " Run: 16, Fragmentation: 0.005\n",
      " Run: 17, Fragmentation: 0.005\n",
      " Run: 18, Fragmentation: 0.005\n",
      " Run: 19, Fragmentation: 0.005\n",
      " Run: 20, Fragmentation: 0.005\n",
      " Run: 21, Fragmentation: 0.005\n",
      " Run: 22, Fragmentation: 0.005\n",
      " Run: 23, Fragmentation: 0.005\n",
      " Run: 24, Fragmentation: 0.005\n",
      " Run: 25, Fragmentation: 0.005\n",
      " Run: 26, Fragmentation: 0.005\n",
      " Run: 27, Fragmentation: 0.005\n",
      " Run: 28, Fragmentation: 0.005\n",
      " Run: 29, Fragmentation: 0.005\n",
      " Run: 30, Fragmentation: 0.005\n",
      " Run: 31, Fragmentation: 0.005\n",
      " Run: 32, Fragmentation: 0.005\n",
      " Run: 33, Fragmentation: 0.005\n",
      " Run: 34, Fragmentation: 0.005\n",
      " Run: 35, Fragmentation: 0.005\n",
      " Run: 36, Fragmentation: 0.005\n",
      " Run: 37, Fragmentation: 0.005\n",
      " Run: 38, Fragmentation: 0.005\n",
      " Run: 39, Fragmentation: 0.005\n",
      " Run: 40, Fragmentation: 0.005\n",
      " Run: 41, Fragmentation: 0.005\n",
      " Run: 42, Fragmentation: 0.005\n",
      " Run: 43, Fragmentation: 0.005\n",
      " Run: 44, Fragmentation: 0.005\n",
      " Run: 45, Fragmentation: 0.005\n",
      " Run: 46, Fragmentation: 0.005\n",
      " Run: 47, Fragmentation: 0.005\n",
      " Run: 48, Fragmentation: 0.005\n",
      " Run: 49, Fragmentation: 0.005\n",
      " Run: 50, Fragmentation: 0.005\n",
      " Run: 51, Fragmentation: 0.005\n",
      " Run: 52, Fragmentation: 0.005\n",
      " Run: 53, Fragmentation: 0.005\n",
      " Run: 54, Fragmentation: 0.005\n",
      " Run: 55, Fragmentation: 0.005\n",
      " Run: 56, Fragmentation: 0.005\n",
      " Run: 57, Fragmentation: 0.005\n",
      " Run: 58, Fragmentation: 0.005\n",
      " Run: 59, Fragmentation: 0.005\n",
      " Run: 60, Fragmentation: 0.005\n",
      " Run: 61, Fragmentation: 0.005\n",
      " Run: 62, Fragmentation: 0.005\n",
      " Run: 63, Fragmentation: 0.005\n",
      " Run: 64, Fragmentation: 0.005\n",
      " Run: 65, Fragmentation: 0.005\n",
      " Run: 66, Fragmentation: 0.005\n",
      " Run: 67, Fragmentation: 0.005\n",
      " Run: 68, Fragmentation: 0.005\n",
      " Run: 69, Fragmentation: 0.005\n",
      " Run: 70, Fragmentation: 0.005\n",
      " Run: 71, Fragmentation: 0.005\n",
      " Run: 72, Fragmentation: 0.005\n",
      " Run: 73, Fragmentation: 0.005\n",
      " Run: 74, Fragmentation: 0.005\n",
      " Run: 75, Fragmentation: 0.005\n",
      " Run: 76, Fragmentation: 0.005\n",
      " Run: 77, Fragmentation: 0.005\n",
      " Run: 78, Fragmentation: 0.005\n",
      " Run: 79, Fragmentation: 0.005\n",
      " Run: 80, Fragmentation: 0.005\n",
      " Run: 81, Fragmentation: 0.005\n",
      " Run: 82, Fragmentation: 0.005\n",
      " Run: 83, Fragmentation: 0.005\n",
      " Run: 84, Fragmentation: 0.005\n",
      " Run: 85, Fragmentation: 0.005\n",
      " Run: 86, Fragmentation: 0.005\n",
      " Run: 87, Fragmentation: 0.005\n",
      " Run: 88, Fragmentation: 0.005\n",
      " Run: 89, Fragmentation: 0.005\n",
      " Run: 90, Fragmentation: 0.005\n",
      " Run: 91, Fragmentation: 0.005\n",
      " Run: 92, Fragmentation: 0.005\n",
      " Run: 93, Fragmentation: 0.005\n",
      " Run: 94, Fragmentation: 0.005\n",
      " Run: 95, Fragmentation: 0.005\n",
      " Run: 96, Fragmentation: 0.005\n",
      " Run: 97, Fragmentation: 0.005\n",
      " Run: 98, Fragmentation: 0.005\n",
      " Run: 99, Fragmentation: 0.005\n"
     ]
    },
    {
     "data": {
      "text/plain": [
       "{'random_allocated_memory': [0.11675126903553301,\n",
       "  0.11675126903553301,\n",
       "  0.09644670050761417,\n",
       "  0.12690355329949243,\n",
       "  0.10659898477157359,\n",
       "  0.13705583756345174,\n",
       "  0.14720812182741116,\n",
       "  0.12690355329949243,\n",
       "  0.12690355329949243,\n",
       "  0.12690355329949243,\n",
       "  0.13705583756345174,\n",
       "  0.07614213197969544,\n",
       "  0.12690355329949243,\n",
       "  0.11675126903553301,\n",
       "  0.14720812182741116,\n",
       "  0.11675126903553301,\n",
       "  0.11675126903553301,\n",
       "  0.11675126903553301,\n",
       "  0.12690355329949243,\n",
       "  0.12690355329949243,\n",
       "  0.11675126903553301,\n",
       "  0.12690355329949243,\n",
       "  0.11675126903553301,\n",
       "  0.14720812182741116,\n",
       "  0.12690355329949243,\n",
       "  0.15736040609137059,\n",
       "  0.10659898477157359,\n",
       "  0.11675126903553301,\n",
       "  0.13705583756345174,\n",
       "  0.11675126903553301,\n",
       "  0.10659898477157359,\n",
       "  0.11675126903553301,\n",
       "  0.09644670050761417,\n",
       "  0.14720812182741116,\n",
       "  0.13705583756345174,\n",
       "  0.12690355329949243,\n",
       "  0.10659898477157359,\n",
       "  0.12690355329949243,\n",
       "  0.12690355329949243,\n",
       "  0.12690355329949243,\n",
       "  0.11675126903553301,\n",
       "  0.13705583756345174,\n",
       "  0.12690355329949243,\n",
       "  0.11675126903553301,\n",
       "  0.11675126903553301,\n",
       "  0.12690355329949243,\n",
       "  0.08629441624365486,\n",
       "  0.10659898477157359,\n",
       "  0.14720812182741116,\n",
       "  0.09644670050761417,\n",
       "  0.10659898477157359,\n",
       "  0.10659898477157359,\n",
       "  0.13705583756345174,\n",
       "  0.10659898477157359,\n",
       "  0.12690355329949243,\n",
       "  0.13705583756345174,\n",
       "  0.10659898477157359,\n",
       "  0.10659898477157359,\n",
       "  0.13705583756345174,\n",
       "  0.12690355329949243,\n",
       "  0.11675126903553301,\n",
       "  0.12690355329949243,\n",
       "  0.12690355329949243,\n",
       "  0.13705583756345174,\n",
       "  0.10659898477157359,\n",
       "  0.10659898477157359,\n",
       "  0.12690355329949243,\n",
       "  0.13705583756345174,\n",
       "  0.11675126903553301,\n",
       "  0.12690355329949243,\n",
       "  0.09644670050761417,\n",
       "  0.11675126903553301,\n",
       "  0.11675126903553301,\n",
       "  0.09644670050761417,\n",
       "  0.12690355329949243,\n",
       "  0.10659898477157359,\n",
       "  0.12690355329949243,\n",
       "  0.13705583756345174,\n",
       "  0.09644670050761417,\n",
       "  0.13705583756345174,\n",
       "  0.11675126903553301,\n",
       "  0.10659898477157359,\n",
       "  0.14720812182741116,\n",
       "  0.13705583756345174,\n",
       "  0.09644670050761417,\n",
       "  0.10659898477157359,\n",
       "  0.15736040609137059,\n",
       "  0.12690355329949243,\n",
       "  0.08629441624365486,\n",
       "  0.10659898477157359,\n",
       "  0.12690355329949243,\n",
       "  0.10659898477157359,\n",
       "  0.15736040609137059,\n",
       "  0.14720812182741116,\n",
       "  0.12690355329949243,\n",
       "  0.14720812182741116,\n",
       "  0.11675126903553301,\n",
       "  0.09644670050761417,\n",
       "  0.12690355329949243,\n",
       "  0.12690355329949243],\n",
       " 'sequential': [0.005076142131979711,\n",
       "  0.005076142131979711,\n",
       "  0.005076142131979711,\n",
       "  0.005076142131979711,\n",
       "  0.005076142131979711,\n",
       "  0.005076142131979711,\n",
       "  0.005076142131979711,\n",
       "  0.005076142131979711,\n",
       "  0.005076142131979711,\n",
       "  0.005076142131979711,\n",
       "  0.005076142131979711,\n",
       "  0.005076142131979711,\n",
       "  0.005076142131979711,\n",
       "  0.005076142131979711,\n",
       "  0.005076142131979711,\n",
       "  0.005076142131979711,\n",
       "  0.005076142131979711,\n",
       "  0.005076142131979711,\n",
       "  0.005076142131979711,\n",
       "  0.005076142131979711,\n",
       "  0.005076142131979711,\n",
       "  0.005076142131979711,\n",
       "  0.005076142131979711,\n",
       "  0.005076142131979711,\n",
       "  0.005076142131979711,\n",
       "  0.005076142131979711,\n",
       "  0.005076142131979711,\n",
       "  0.005076142131979711,\n",
       "  0.005076142131979711,\n",
       "  0.005076142131979711,\n",
       "  0.005076142131979711,\n",
       "  0.005076142131979711,\n",
       "  0.005076142131979711,\n",
       "  0.005076142131979711,\n",
       "  0.005076142131979711,\n",
       "  0.005076142131979711,\n",
       "  0.005076142131979711,\n",
       "  0.005076142131979711,\n",
       "  0.005076142131979711,\n",
       "  0.005076142131979711,\n",
       "  0.005076142131979711,\n",
       "  0.005076142131979711,\n",
       "  0.005076142131979711,\n",
       "  0.005076142131979711,\n",
       "  0.005076142131979711,\n",
       "  0.005076142131979711,\n",
       "  0.005076142131979711,\n",
       "  0.005076142131979711,\n",
       "  0.005076142131979711,\n",
       "  0.005076142131979711,\n",
       "  0.005076142131979711,\n",
       "  0.005076142131979711,\n",
       "  0.005076142131979711,\n",
       "  0.005076142131979711,\n",
       "  0.005076142131979711,\n",
       "  0.005076142131979711,\n",
       "  0.005076142131979711,\n",
       "  0.005076142131979711,\n",
       "  0.005076142131979711,\n",
       "  0.005076142131979711,\n",
       "  0.005076142131979711,\n",
       "  0.005076142131979711,\n",
       "  0.005076142131979711,\n",
       "  0.005076142131979711,\n",
       "  0.005076142131979711,\n",
       "  0.005076142131979711,\n",
       "  0.005076142131979711,\n",
       "  0.005076142131979711,\n",
       "  0.005076142131979711,\n",
       "  0.005076142131979711,\n",
       "  0.005076142131979711,\n",
       "  0.005076142131979711,\n",
       "  0.005076142131979711,\n",
       "  0.005076142131979711,\n",
       "  0.005076142131979711,\n",
       "  0.005076142131979711,\n",
       "  0.005076142131979711,\n",
       "  0.005076142131979711,\n",
       "  0.005076142131979711,\n",
       "  0.005076142131979711,\n",
       "  0.005076142131979711,\n",
       "  0.005076142131979711,\n",
       "  0.005076142131979711,\n",
       "  0.005076142131979711,\n",
       "  0.005076142131979711,\n",
       "  0.005076142131979711,\n",
       "  0.005076142131979711,\n",
       "  0.005076142131979711,\n",
       "  0.005076142131979711,\n",
       "  0.005076142131979711,\n",
       "  0.005076142131979711,\n",
       "  0.005076142131979711,\n",
       "  0.005076142131979711,\n",
       "  0.005076142131979711,\n",
       "  0.005076142131979711,\n",
       "  0.005076142131979711,\n",
       "  0.005076142131979711,\n",
       "  0.005076142131979711,\n",
       "  0.005076142131979711,\n",
       "  0.005076142131979711]}"
      ]
     },
     "execution_count": 519,
     "metadata": {},
     "output_type": "execute_result"
    }
   ],
   "source": [
    "runs_dict = runs(size, sizes, numbers, allocators, 100)\n",
    "runs_dict"
   ]
  },
  {
   "cell_type": "code",
   "execution_count": 526,
   "metadata": {},
   "outputs": [],
   "source": [
    "import matplotlib.pyplot as plt\n",
    "import numpy as np\n",
    "def plot_runs(runs_dict):\n",
    "    fig, ax = plt.subplots()\n",
    "    labels = []\n",
    "    fragmentation = []\n",
    "    stdevs = []\n",
    "    for  allocators, frag_list in runs_dict.items():\n",
    "        labels.append(allocators)\n",
    "        fragmentation.append(np.mean(frag_list))\n",
    "        stdevs.append(np.std(frag_list))\n",
    "    y_pos = np.arange(len(labels))\n",
    "    ax.bar(y_pos, fragmentation, yerr=stdevs)#, align='center',\n",
    "           #color='green', ecolor='black'\n",
    "         # )\n",
    "    ax.set_xticks(y_pos)\n",
    "    ax.set_xticklabels(labels)\n",
    "    ax.set_ylabel('Fragmentation')\n",
    "    ax.set_title('Memz, n = {:d}'.format(len(list(runs_dict.values())[0])))\n",
    "\n",
    "    plt.show()\n",
    "    fig.savefig('fragmentation.svg', bbox_inches='tight')"
   ]
  },
  {
   "cell_type": "code",
   "execution_count": 527,
   "metadata": {},
   "outputs": [
    {
     "name": "stderr",
     "output_type": "stream",
     "text": [
      "/home/erik/anaconda3/lib/python3.5/site-packages/matplotlib/pyplot.py:528: RuntimeWarning: More than 20 figures have been opened. Figures created through the pyplot interface (`matplotlib.pyplot.figure`) are retained until explicitly closed and may consume too much memory. (To control this warning, see the rcParam `figure.max_open_warning`).\n",
      "  max_open_warning, RuntimeWarning)\n"
     ]
    },
    {
     "data": {
      "application/vnd.jupyter.widget-view+json": {
       "model_id": "e286762c395a42b086e871b7e793acf5",
       "version_major": 2,
       "version_minor": 0
      },
      "text/plain": [
       "FigureCanvasNbAgg()"
      ]
     },
     "metadata": {},
     "output_type": "display_data"
    }
   ],
   "source": [
    "plot_runs(runs_dict)"
   ]
  },
  {
   "cell_type": "markdown",
   "metadata": {},
   "source": [
    "Some examples:"
   ]
  },
  {
   "cell_type": "code",
   "execution_count": 27,
   "metadata": {},
   "outputs": [
    {
     "data": {
      "application/vnd.jupyter.widget-view+json": {
       "model_id": "3a532ec2711d4e95b22a1c0249543e9a",
       "version_major": 2,
       "version_minor": 0
      },
      "text/plain": [
       "FigureCanvasNbAgg()"
      ]
     },
     "metadata": {},
     "output_type": "display_data"
    }
   ],
   "source": [
    "import matplotlib.pyplot as plt\n",
    "plt.rcdefaults()\n",
    "import numpy as np\n",
    "import matplotlib.pyplot as plt\n",
    "\n",
    "\n",
    "plt.rcdefaults()\n",
    "fig, ax = plt.subplots()\n",
    "\n",
    "# Example data\n",
    "people = ('Tom', 'Dick', 'Harry', 'Slim', 'Jim')\n",
    "y_pos = np.arange(len(people))\n",
    "performance = 3 + 10 * np.random.rand(len(people))\n",
    "error = np.random.rand(len(people))\n",
    "\n",
    "ax.barh(y_pos, performance, xerr=error, align='center',\n",
    "        color='green', ecolor='black')\n",
    "ax.set_yticks(y_pos)\n",
    "ax.set_yticklabels(people)\n",
    "ax.invert_yaxis()  # labels read top-to-bottom\n",
    "ax.set_xlabel('Performance')\n",
    "ax.set_title('How fast do you want to go today?')\n",
    "\n",
    "plt.show()"
   ]
  },
  {
   "cell_type": "code",
   "execution_count": 28,
   "metadata": {},
   "outputs": [
    {
     "data": {
      "application/vnd.jupyter.widget-view+json": {
       "model_id": "efa474d8f5ed43b688309bc4529494d6",
       "version_major": 2,
       "version_minor": 0
      },
      "text/plain": [
       "FigureCanvasNbAgg()"
      ]
     },
     "metadata": {},
     "output_type": "display_data"
    }
   ],
   "source": [
    "import matplotlib.pyplot as plt\n",
    "plt.figure()\n",
    "x = [1,2,3]\n",
    "y = [4,5,6]\n",
    "plt.plot(x,y)\n",
    "plt.show()"
   ]
  }
 ],
 "metadata": {
  "kernelspec": {
   "display_name": "Python [conda env:anaconda3]",
   "language": "python",
   "name": "conda-env-anaconda3-py"
  },
  "language_info": {
   "codemirror_mode": {
    "name": "ipython",
    "version": 3
   },
   "file_extension": ".py",
   "mimetype": "text/x-python",
   "name": "python",
   "nbconvert_exporter": "python",
   "pygments_lexer": "ipython3",
   "version": "3.5.4"
  }
 },
 "nbformat": 4,
 "nbformat_minor": 2
}
