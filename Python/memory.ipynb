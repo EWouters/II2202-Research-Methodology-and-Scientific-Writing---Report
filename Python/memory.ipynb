{
 "cells": [
  {
   "cell_type": "markdown",
   "metadata": {},
   "source": [
    "- Fragmentation (from [here](https://dl.acm.org/citation.cfm?id=2893731))\n",
    "- $\\text{fragmentation}(x) = 1 - \\frac{x \\times\\#(\\text{free chuncks of size } x)}{\\text{free space}}$"
   ]
  },
  {
   "cell_type": "code",
   "execution_count": 1,
   "metadata": {},
   "outputs": [],
   "source": [
    "%matplotlib ipympl\n",
    "import random"
   ]
  },
  {
   "cell_type": "markdown",
   "metadata": {},
   "source": [
    "https://github.com/matplotlib/jupyter-matplotlib"
   ]
  },
  {
   "cell_type": "code",
   "execution_count": 2,
   "metadata": {},
   "outputs": [],
   "source": [
    "def add_var(alloc_size=30, alloc_time=1, dealloc_time=10):\n",
    "    return {\"alloc_size\":alloc_size, \"alloc_time\":alloc_time, \"dealloc_time\":dealloc_time}"
   ]
  },
  {
   "cell_type": "code",
   "execution_count": 49,
   "metadata": {},
   "outputs": [],
   "source": [
    "class memory:\n",
    "    def __init__(self, size):\n",
    "        self.size = size # memory size in bytes\n",
    "        self.free_mem = size\n",
    "        self.memory = [ False ] * size\n",
    "    \n",
    "    def __str__(self):\n",
    "        str1 = \"size: {}\\n\".format(str(self.size))\n",
    "        str1 += str(list(int(i) for i in self.memory))\n",
    "        return str1\n",
    "                \n",
    "    def writeAllocation(self, position, size):\n",
    "        self.memory[position: position+size] = [True] * size\n",
    "            \n",
    "    def isThereSpace(self, position, size):\n",
    "        if position+size > self.size:\n",
    "            return 0\n",
    "        return sum(self.memory[position: position+size]) == 0"
   ]
  },
  {
   "cell_type": "code",
   "execution_count": 50,
   "metadata": {},
   "outputs": [],
   "source": [
    "class random_allocated_memory(memory):\n",
    "    def allocate(self, size):\n",
    "        allocated = False\n",
    "        while not allocated:\n",
    "            pick_place_to_allocate = random.randint(0,self.size-1-size)\n",
    "            if self.isThereSpace(pick_place_to_allocate, size):\n",
    "                self.writeAllocation(pick_place_to_allocate, size)\n",
    "                self.free_mem -= size\n",
    "                allocated = True"
   ]
  },
  {
   "cell_type": "code",
   "execution_count": 94,
   "metadata": {},
   "outputs": [],
   "source": [
    "class mpattern:\n",
    "    'Allocation pattern'\n",
    "    \n",
    "    def __init__(self, size, memory_class=random_allocated_memory):\n",
    "        self.allocation_list = [] # allocation_list is a list of byte sizes of objects to be allocated.\n",
    "        self.memory = memory_class(size)\n",
    "    \n",
    "    def __str__(self):\n",
    "        str1 = \"\" #str(memory)\n",
    "        for var in self.allocation_list:\n",
    "            #str1 += str(var) + \"\\n\"\n",
    "            str1 += \"alloc_size: \" + str(var[\"alloc_size\"]) + \"\\n\"\n",
    "        return str1\n",
    "        \n",
    "    def add_var(self, alloc_size=30, alloc_time=0, dealloc_time=1):\n",
    "        self.allocation_list.append({\"alloc_size\":alloc_size, \"alloc_time\":alloc_time, \"dealloc_time\":dealloc_time})\n",
    "    \n",
    "    def create_random(self, size, number):\n",
    "        assert(False)\n",
    "        \n",
    "    def get_number_free_chunks(self, size):\n",
    "        num = 0\n",
    "        i = 0\n",
    "        while i < self.memory.size:\n",
    "            if self.memory.isThereSpace(i,size):\n",
    "                num += 1\n",
    "                i += size\n",
    "            else:\n",
    "                i += 1\n",
    "        return num\n",
    "        \n",
    "    def get_fragmentation(self, size_x):\n",
    "        if size_x > self.memory.free_mem:\n",
    "            return 1\n",
    "        num_free_chunks_of_size_x = self.get_number_free_chunks(size_x)\n",
    "        return 1-size_x*num_free_chunks_of_size_x/self.memory.free_mem"
   ]
  },
  {
   "cell_type": "code",
   "execution_count": 95,
   "metadata": {},
   "outputs": [],
   "source": [
    "mem = mpattern(200)"
   ]
  },
  {
   "cell_type": "code",
   "execution_count": 96,
   "metadata": {},
   "outputs": [],
   "source": [
    "#mem.add_var(1)"
   ]
  },
  {
   "cell_type": "code",
   "execution_count": 97,
   "metadata": {},
   "outputs": [],
   "source": [
    "mem.memory.allocate(3)"
   ]
  },
  {
   "cell_type": "code",
   "execution_count": 98,
   "metadata": {},
   "outputs": [
    {
     "name": "stdout",
     "output_type": "stream",
     "text": [
      "\n"
     ]
    }
   ],
   "source": [
    "print(mem)"
   ]
  },
  {
   "cell_type": "code",
   "execution_count": 99,
   "metadata": {},
   "outputs": [
    {
     "data": {
      "text/plain": [
       "0.08629441624365486"
      ]
     },
     "execution_count": 99,
     "metadata": {},
     "output_type": "execute_result"
    }
   ],
   "source": [
    "mem.get_fragmentation(30)"
   ]
  },
  {
   "cell_type": "code",
   "execution_count": 92,
   "metadata": {},
   "outputs": [
    {
     "data": {
      "text/plain": [
       "<__main__.random_allocated_memory at 0x7ff9fe62b2b0>"
      ]
     },
     "execution_count": 92,
     "metadata": {},
     "output_type": "execute_result"
    }
   ],
   "source": [
    "mem.memory"
   ]
  },
  {
   "cell_type": "code",
   "execution_count": 100,
   "metadata": {},
   "outputs": [
    {
     "name": "stdout",
     "output_type": "stream",
     "text": [
      "size: 3\n",
      "[0, 0, 0]\n"
     ]
    }
   ],
   "source": [
    "memory(30)\n",
    "random_allocated_memory(3)\n",
    "print(random_allocated_memory(3))"
   ]
  },
  {
   "cell_type": "code",
   "execution_count": null,
   "metadata": {},
   "outputs": [],
   "source": []
  },
  {
   "cell_type": "markdown",
   "metadata": {},
   "source": [
    "Some examples:"
   ]
  },
  {
   "cell_type": "code",
   "execution_count": 27,
   "metadata": {},
   "outputs": [
    {
     "data": {
      "application/vnd.jupyter.widget-view+json": {
       "model_id": "3a532ec2711d4e95b22a1c0249543e9a",
       "version_major": 2,
       "version_minor": 0
      },
      "text/plain": [
       "FigureCanvasNbAgg()"
      ]
     },
     "metadata": {},
     "output_type": "display_data"
    }
   ],
   "source": [
    "import matplotlib.pyplot as plt\n",
    "plt.rcdefaults()\n",
    "import numpy as np\n",
    "import matplotlib.pyplot as plt\n",
    "\n",
    "\n",
    "plt.rcdefaults()\n",
    "fig, ax = plt.subplots()\n",
    "\n",
    "# Example data\n",
    "people = ('Tom', 'Dick', 'Harry', 'Slim', 'Jim')\n",
    "y_pos = np.arange(len(people))\n",
    "performance = 3 + 10 * np.random.rand(len(people))\n",
    "error = np.random.rand(len(people))\n",
    "\n",
    "ax.barh(y_pos, performance, xerr=error, align='center',\n",
    "        color='green', ecolor='black')\n",
    "ax.set_yticks(y_pos)\n",
    "ax.set_yticklabels(people)\n",
    "ax.invert_yaxis()  # labels read top-to-bottom\n",
    "ax.set_xlabel('Performance')\n",
    "ax.set_title('How fast do you want to go today?')\n",
    "\n",
    "plt.show()"
   ]
  },
  {
   "cell_type": "code",
   "execution_count": 28,
   "metadata": {},
   "outputs": [
    {
     "data": {
      "application/vnd.jupyter.widget-view+json": {
       "model_id": "efa474d8f5ed43b688309bc4529494d6",
       "version_major": 2,
       "version_minor": 0
      },
      "text/plain": [
       "FigureCanvasNbAgg()"
      ]
     },
     "metadata": {},
     "output_type": "display_data"
    }
   ],
   "source": [
    "import matplotlib.pyplot as plt\n",
    "plt.figure()\n",
    "x = [1,2,3]\n",
    "y = [4,5,6]\n",
    "plt.plot(x,y)\n",
    "plt.show()"
   ]
  },
  {
   "cell_type": "code",
   "execution_count": null,
   "metadata": {},
   "outputs": [],
   "source": []
  },
  {
   "cell_type": "code",
   "execution_count": null,
   "metadata": {},
   "outputs": [],
   "source": []
  },
  {
   "cell_type": "code",
   "execution_count": null,
   "metadata": {},
   "outputs": [],
   "source": []
  },
  {
   "cell_type": "code",
   "execution_count": null,
   "metadata": {},
   "outputs": [],
   "source": []
  },
  {
   "cell_type": "code",
   "execution_count": null,
   "metadata": {},
   "outputs": [],
   "source": []
  }
 ],
 "metadata": {
  "kernelspec": {
   "display_name": "Python [conda env:anaconda3]",
   "language": "python",
   "name": "conda-env-anaconda3-py"
  },
  "language_info": {
   "codemirror_mode": {
    "name": "ipython",
    "version": 3
   },
   "file_extension": ".py",
   "mimetype": "text/x-python",
   "name": "python",
   "nbconvert_exporter": "python",
   "pygments_lexer": "ipython3",
   "version": "3.5.4"
  }
 },
 "nbformat": 4,
 "nbformat_minor": 2
}
